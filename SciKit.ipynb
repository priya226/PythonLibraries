{
  "nbformat": 4,
  "nbformat_minor": 0,
  "metadata": {
    "colab": {
      "name": "SciKit.ipynb",
      "provenance": [],
      "collapsed_sections": []
    },
    "kernelspec": {
      "name": "python3",
      "display_name": "Python 3"
    }
  },
  "cells": [
    {
      "cell_type": "markdown",
      "metadata": {
        "id": "07fpBka0Zr1H",
        "colab_type": "text"
      },
      "source": [
        "# Sklearn\n",
        "*   open source Python library for machine learning.\n",
        "*   The library supports  algorithms such as KNN, XGBoost, random          forest, SVM among others. \n",
        "*   It is built on top of Numpy.\n",
        "*  Scikit-learn helps in preprocessing, dimensionality reduction(parameter selection), classification, regression, clustering, and model selection."
      ]
    },
    {
      "cell_type": "code",
      "metadata": {
        "id": "iZNsSAEhXlvI",
        "colab_type": "code",
        "outputId": "9c589ae7-7f39-4ffa-b6ca-2504101c3eb8",
        "colab": {
          "base_uri": "https://localhost:8080/",
          "height": 124
        }
      },
      "source": [
        "from google.colab import drive\n",
        "drive.mount('/gdrive')"
      ],
      "execution_count": 0,
      "outputs": [
        {
          "output_type": "stream",
          "text": [
            "Go to this URL in a browser: https://accounts.google.com/o/oauth2/auth?client_id=947318989803-6bn6qk8qdgf4n4g3pfee6491hc0brc4i.apps.googleusercontent.com&redirect_uri=urn%3aietf%3awg%3aoauth%3a2.0%3aoob&response_type=code&scope=email%20https%3a%2f%2fwww.googleapis.com%2fauth%2fdocs.test%20https%3a%2f%2fwww.googleapis.com%2fauth%2fdrive%20https%3a%2f%2fwww.googleapis.com%2fauth%2fdrive.photos.readonly%20https%3a%2f%2fwww.googleapis.com%2fauth%2fpeopleapi.readonly\n",
            "\n",
            "Enter your authorization code:\n",
            "··········\n",
            "Mounted at /gdrive\n"
          ],
          "name": "stdout"
        }
      ]
    },
    {
      "cell_type": "markdown",
      "metadata": {
        "id": "VVKJ7lNKFEG-",
        "colab_type": "text"
      },
      "source": [
        "Missing values fill up"
      ]
    },
    {
      "cell_type": "code",
      "metadata": {
        "id": "i931Nl2Ke2Ko",
        "colab_type": "code",
        "outputId": "ca8a6df0-7da5-4a04-beb6-ccd5432073f4",
        "colab": {
          "base_uri": "https://localhost:8080/",
          "height": 347
        }
      },
      "source": [
        "import pandas as pd\n",
        "import numpy as np\n",
        "\n",
        "df = pd.read_csv('/gdrive/My Drive/Data_for_Missing_Values.csv')\n",
        "print(df.head())\n",
        "X = df.iloc[:,:-1].values # all column except one\n",
        "Y = df.iloc[:,3].values  # last column is output\n",
        "print(\"\\n X\",X)\n",
        "print(\"\\n Y\",Y)"
      ],
      "execution_count": 0,
      "outputs": [
        {
          "output_type": "stream",
          "text": [
            "   Country   Age   Salary Purchased\n",
            "0   France  44.0  72000.0        No\n",
            "1    Spain  27.0  48000.0       Yes\n",
            "2  Germany  30.0  54000.0        No\n",
            "3    Spain  38.0  61000.0        No\n",
            "4  Germany  40.0      NaN       Yes\n",
            "\n",
            " X [['France' 44.0 72000.0]\n",
            " ['Spain' 27.0 48000.0]\n",
            " ['Germany' 30.0 54000.0]\n",
            " ['Spain' 38.0 61000.0]\n",
            " ['Germany' 40.0 nan]\n",
            " ['France' 35.0 58000.0]\n",
            " ['Spain' nan 52000.0]\n",
            " ['France' 48.0 79000.0]\n",
            " ['Germany' 50.0 83000.0]\n",
            " ['France' 37.0 67000.0]]\n",
            "\n",
            " Y ['No' 'Yes' 'No' 'No' 'Yes' 'Yes' 'No' 'Yes' 'No' 'Yes']\n"
          ],
          "name": "stdout"
        }
      ]
    },
    {
      "cell_type": "markdown",
      "metadata": {
        "id": "hRmtpLPRHR68",
        "colab_type": "text"
      },
      "source": [
        "our object of class SimpleImputer is im\n",
        "The Imputer class can take a few parameters — \n",
        "\n",
        "1.   missing_values — We can either give it an integer or “NaN” for it to find the missing values.\n",
        "2.   strategy — we will find the average so we will set it to mean. We can also set it to median or most_frequent (for mode) as necessary.\n"
      ]
    },
    {
      "cell_type": "code",
      "metadata": {
        "id": "5uDPwfnk8UD3",
        "colab_type": "code",
        "outputId": "afb15a71-3842-4746-b699-2d4d7c08f8b9",
        "colab": {
          "base_uri": "https://localhost:8080/",
          "height": 208
        }
      },
      "source": [
        "from sklearn.impute import SimpleImputer\n",
        "im = SimpleImputer(missing_values =np.nan,strategy='mean')\n",
        "im = im.fit(X[:,1:3])\n",
        "#Now we will just replace the missing values with the mean of the column by the method transform.\n",
        "X[:,1:3] = im.transform(X[:,1:3])\n",
        "print(\"\\n \",X)"
      ],
      "execution_count": 0,
      "outputs": [
        {
          "output_type": "stream",
          "text": [
            "\n",
            "  [['France' 44.0 72000.0]\n",
            " ['Spain' 27.0 48000.0]\n",
            " ['Germany' 30.0 54000.0]\n",
            " ['Spain' 38.0 61000.0]\n",
            " ['Germany' 40.0 63777.77777777778]\n",
            " ['France' 35.0 58000.0]\n",
            " ['Spain' 38.77777777777778 52000.0]\n",
            " ['France' 48.0 79000.0]\n",
            " ['Germany' 50.0 83000.0]\n",
            " ['France' 37.0 67000.0]]\n"
          ],
          "name": "stdout"
        }
      ]
    },
    {
      "cell_type": "markdown",
      "metadata": {
        "id": "i_EhXQqAPADW",
        "colab_type": "text"
      },
      "source": [
        "**Encoding categorical **\n",
        "\n",
        "---\n",
        "\n",
        "\n",
        "Sometimes our data is in qualitative form, that is we have texts as our data. We can find categories in text form. Now it gets complicated for machines to understand texts and process them, rather than numbers, since the models are based on mathematical equations and calculations. Therefore, we have to encode the categorical data."
      ]
    },
    {
      "cell_type": "code",
      "metadata": {
        "id": "QD9qeCAvHyis",
        "colab_type": "code",
        "outputId": "d366b422-776c-43e4-b988-5d0350560d1f",
        "colab": {
          "base_uri": "https://localhost:8080/",
          "height": 52
        }
      },
      "source": [
        "from sklearn.preprocessing import LabelEncoder\n",
        "labelencoder_y = LabelEncoder()   # object of class LabelEncoder\n",
        "Y=labelencoder_y.fit_transform(Y)   # transformed yes to 1 and no to 0\n",
        "print(\"\\n\",Y)"
      ],
      "execution_count": 0,
      "outputs": [
        {
          "output_type": "stream",
          "text": [
            "\n",
            " [0 1 0 0 1 1 0 1 0 1]\n"
          ],
          "name": "stdout"
        }
      ]
    },
    {
      "cell_type": "code",
      "metadata": {
        "id": "Cxa8AvQtQAZo",
        "colab_type": "code",
        "outputId": "e8b615e7-08af-47ba-b7bc-b0c5c4cbcfda",
        "colab": {
          "base_uri": "https://localhost:8080/",
          "height": 34
        }
      },
      "source": [
        "#more than one category as first column of X X[:,0]\n",
        "from sklearn.preprocessing import  OneHotEncoder\n",
        "# select the first column to OneHotEncode the categories.\n",
        "X = encoder_x.fit_transform(X).toarray()\n",
        "X.shape"
      ],
      "execution_count": 0,
      "outputs": [
        {
          "output_type": "execute_result",
          "data": {
            "text/plain": [
              "(10, 46)"
            ]
          },
          "metadata": {
            "tags": []
          },
          "execution_count": 17
        }
      ]
    },
    {
      "cell_type": "markdown",
      "metadata": {
        "id": "oEfNZdl-8Oi2",
        "colab_type": "text"
      },
      "source": [
        "Dataset splitting"
      ]
    },
    {
      "cell_type": "code",
      "metadata": {
        "id": "ZvRUmqk57k3O",
        "colab_type": "code",
        "outputId": "5044a02a-272e-4754-8299-56249b877fb7",
        "colab": {
          "base_uri": "https://localhost:8080/",
          "height": 469
        }
      },
      "source": [
        "from sklearn.model_selection import train_test_split\n",
        "X_train, X_test, Y_train, Y_test = train_test_split(X,Y, test_size=0.2)\n",
        "print(\"\\n\",X_train)\n",
        "print(\"\\n\",Y_train)\n",
        "print(\"\\n\",X_test)\n",
        "print(\"\\n\",Y_test)"
      ],
      "execution_count": 0,
      "outputs": [
        {
          "output_type": "stream",
          "text": [
            "\n",
            " [[1. 0. 0. 1. 1. 0. 1. 0. 0. 1. 1. 0. 1. 0. 1. 0. 1. 0. 1. 0. 1. 0. 1. 0.\n",
            "  1. 0. 1. 0. 1. 0. 0. 1. 1. 0. 1. 0. 1. 0. 1. 0. 1. 0. 1. 0. 1. 0.]\n",
            " [1. 0. 1. 0. 0. 1. 1. 0. 1. 0. 1. 0. 1. 0. 0. 1. 1. 0. 1. 0. 1. 0. 1. 0.\n",
            "  1. 0. 1. 0. 1. 0. 1. 0. 1. 0. 0. 1. 1. 0. 1. 0. 1. 0. 1. 0. 1. 0.]\n",
            " [1. 0. 1. 0. 0. 1. 1. 0. 1. 0. 1. 0. 1. 0. 1. 0. 0. 1. 1. 0. 1. 0. 1. 0.\n",
            "  1. 0. 1. 0. 0. 1. 1. 0. 1. 0. 1. 0. 1. 0. 1. 0. 1. 0. 1. 0. 1. 0.]\n",
            " [0. 1. 1. 0. 1. 0. 1. 0. 1. 0. 0. 1. 1. 0. 1. 0. 1. 0. 1. 0. 1. 0. 1. 0.\n",
            "  1. 0. 1. 0. 1. 0. 1. 0. 0. 1. 1. 0. 1. 0. 1. 0. 1. 0. 1. 0. 1. 0.]\n",
            " [0. 1. 1. 0. 1. 0. 1. 0. 1. 0. 1. 0. 0. 1. 1. 0. 1. 0. 1. 0. 1. 0. 1. 0.\n",
            "  1. 0. 1. 0. 1. 0. 1. 0. 1. 0. 1. 0. 1. 0. 0. 1. 1. 0. 1. 0. 1. 0.]\n",
            " [1. 0. 0. 1. 1. 0. 1. 0. 1. 0. 1. 0. 1. 0. 1. 0. 1. 0. 0. 1. 1. 0. 1. 0.\n",
            "  1. 0. 1. 0. 1. 0. 1. 0. 1. 0. 1. 0. 0. 1. 1. 0. 1. 0. 1. 0. 1. 0.]\n",
            " [0. 1. 1. 0. 1. 0. 1. 0. 1. 0. 1. 0. 1. 0. 1. 0. 1. 0. 1. 0. 1. 0. 0. 1.\n",
            "  1. 0. 1. 0. 1. 0. 1. 0. 1. 0. 1. 0. 1. 0. 1. 0. 1. 0. 0. 1. 1. 0.]\n",
            " [1. 0. 0. 1. 1. 0. 1. 0. 1. 0. 1. 0. 1. 0. 1. 0. 1. 0. 1. 0. 1. 0. 1. 0.\n",
            "  0. 1. 1. 0. 1. 0. 1. 0. 1. 0. 1. 0. 1. 0. 1. 0. 1. 0. 1. 0. 0. 1.]]\n",
            "\n",
            " [0 0 0 1 1 1 1 0]\n",
            "\n",
            " [[0. 1. 1. 0. 1. 0. 1. 0. 1. 0. 1. 0. 1. 0. 1. 0. 1. 0. 1. 0. 0. 1. 1. 0.\n",
            "  1. 0. 1. 0. 1. 0. 1. 0. 1. 0. 1. 0. 1. 0. 1. 0. 0. 1. 1. 0. 1. 0.]\n",
            " [1. 0. 1. 0. 0. 1. 0. 1. 1. 0. 1. 0. 1. 0. 1. 0. 1. 0. 1. 0. 1. 0. 1. 0.\n",
            "  1. 0. 0. 1. 1. 0. 1. 0. 1. 0. 1. 0. 1. 0. 1. 0. 1. 0. 1. 0. 1. 0.]]\n",
            "\n",
            " [0 1]\n"
          ],
          "name": "stdout"
        }
      ]
    },
    {
      "cell_type": "markdown",
      "metadata": {
        "id": "-Q-a-GGBBmC5",
        "colab_type": "text"
      },
      "source": [
        "#Feature scaling\n",
        "It is a method used to standardize the range of independent variables or features of data. "
      ]
    },
    {
      "cell_type": "code",
      "metadata": {
        "id": "AYChKcmw7lsg",
        "colab_type": "code",
        "colab": {}
      },
      "source": [
        "from sklearn.preprocessing import StandardScaler\n",
        "sc_X= StandardScaler()\n",
        "X_train = sc_X.fit_transform(X_train)\n",
        "X_test = sc_X.fit_transform(X_test)\n"
      ],
      "execution_count": 0,
      "outputs": []
    },
    {
      "cell_type": "markdown",
      "metadata": {
        "id": "iP63CNFrAAD8",
        "colab_type": "text"
      },
      "source": [
        "##Simple Linear Regression\n",
        " (using only one feature)"
      ]
    },
    {
      "cell_type": "code",
      "metadata": {
        "id": "scYmXzeWCqK4",
        "colab_type": "code",
        "outputId": "8125f437-f1f3-45fd-bb55-82aa29042042",
        "colab": {
          "base_uri": "https://localhost:8080/",
          "height": 34
        }
      },
      "source": [
        "from sklearn.linear_model import LinearRegression\n",
        "regressor = LinearRegression()\n",
        "regressor.fit([[0, 0], [1, 1], [2, 2]], [0, 1, 2])"
      ],
      "execution_count": 0,
      "outputs": [
        {
          "output_type": "execute_result",
          "data": {
            "text/plain": [
              "LinearRegression(copy_X=True, fit_intercept=True, n_jobs=None, normalize=False)"
            ]
          },
          "metadata": {
            "tags": []
          },
          "execution_count": 27
        }
      ]
    },
    {
      "cell_type": "code",
      "metadata": {
        "id": "Dw3ms-RoBXHt",
        "colab_type": "code",
        "outputId": "7662a6d7-4a0a-4a41-e441-bab66365f5eb",
        "colab": {
          "base_uri": "https://localhost:8080/",
          "height": 104
        }
      },
      "source": [
        "y_predictor = regressor.predict([[1,0],[2,2]])\n",
        "print(regressor.coef_)\n",
        "print(\"\\n\",y_predictor)\n",
        "print(\"\\n\",regressor.intercept_)"
      ],
      "execution_count": 0,
      "outputs": [
        {
          "output_type": "stream",
          "text": [
            "[0.5 0.5]\n",
            "\n",
            " [0.5 2. ]\n",
            "\n",
            " 1.1102230246251565e-16\n"
          ],
          "name": "stdout"
        }
      ]
    },
    {
      "cell_type": "markdown",
      "metadata": {
        "id": "hMAHNqyREgTe",
        "colab_type": "text"
      },
      "source": [
        "# Multiple Linear Regression\n",
        "having more parametters"
      ]
    },
    {
      "cell_type": "code",
      "metadata": {
        "id": "_kKhBY4sCAwk",
        "colab_type": "code",
        "outputId": "08df2967-6fd4-455c-f13d-5e3b20f7f4b4",
        "colab": {
          "base_uri": "https://localhost:8080/",
          "height": 86
        }
      },
      "source": [
        "import pandas as pd\n",
        "from sklearn.linear_model import LinearRegression\n",
        "regressor = LinearRegression()\n",
        "Stock_Market = {'Year': [2017,2017,2017,2017,2017,2017,2017,2017,2017,2017,2017,2017,2016,2016,2016,2016,2016,2016,2016,2016,2016,2016,2016,2016],\n",
        "                'Month': [12, 11,10,9,8,7,6,5,4,3,2,1,12,11,10,9,8,7,6,5,4,3,2,1],\n",
        "                'Interest_Rate': [2.75,2.5,2.5,2.5,2.5,2.5,2.5,2.25,2.25,2.25,2,2,2,1.75,1.75,1.75,1.75,1.75,1.75,1.75,1.75,1.75,1.75,1.75],\n",
        "                'Unemployment_Rate': [5.3,5.3,5.3,5.3,5.4,5.6,5.5,5.5,5.5,5.6,5.7,5.9,6,5.9,5.8,6.1,6.2,6.1,6.1,6.1,5.9,6.2,6.2,6.1],\n",
        "                'Stock_Index_Price': [1464,1394,1357,1293,1256,1254,1234,1195,1159,1167,1130,1075,1047,965,943,958,971,949,884,866,876,822,704,719]        \n",
        "                }\n",
        "df = pd.DataFrame(Stock_Market,columns=['Year','Month','Interest_Rate','Unemployment_Rate','Stock_Index_Price'])\n",
        "\n",
        "X = df[['Interest_Rate','Unemployment_Rate']] \n",
        "Y = df['Stock_Index_Price']\n",
        "regressor.fit(X,Y)\n",
        "\n",
        "print(regressor.coef_)\n",
        "print(regressor.intercept_)\n",
        "y_predictor = regressor.predict([[2.75,5.3],[2.88,3.99]])\n",
        "print(\"\\n\",y_predictor)"
      ],
      "execution_count": 0,
      "outputs": [
        {
          "output_type": "stream",
          "text": [
            "[ 345.54008701 -250.14657137]\n",
            "1798.4039776258546\n",
            "\n",
            " [1422.86238865 1795.47460845]\n"
          ],
          "name": "stdout"
        }
      ]
    },
    {
      "cell_type": "code",
      "metadata": {
        "id": "hj2F6razFfhN",
        "colab_type": "code",
        "colab": {}
      },
      "source": [
        ""
      ],
      "execution_count": 0,
      "outputs": []
    },
    {
      "cell_type": "code",
      "metadata": {
        "id": "uF0OsJcwHHx_",
        "colab_type": "code",
        "outputId": "0bee51ec-e312-412f-fb73-55506cd95ffc",
        "colab": {
          "base_uri": "https://localhost:8080/",
          "height": 334
        }
      },
      "source": [
        "import operator\n",
        "import numpy as np\n",
        "import matplotlib.pyplot as plt\n",
        "from sklearn.linear_model  import LinearRegression\n",
        "from sklearn.metrics import mean_squared_error,r2_score\n",
        "from sklearn.preprocessing import PolynomialFeatures\n",
        "\n",
        "np.random.seed(0)\n",
        "X =2-3*np.random.normal(0,1,20)\n",
        "Y=0.5*(X**3)-2*(X**2)+X+np.random.normal(-3,3,20)\n",
        "print(X.shape)\n",
        "X=X[:,np.newaxis]   #make it column vector\n",
        "print(X.shape)\n",
        "Y=Y[:,np.newaxis]\n",
        "polyfeature =PolynomialFeatures(degree=2)\n",
        "X_poly =polyfeature.fit_transform(X)\n",
        "model = LinearRegression()\n",
        "model.fit(X_poly,Y)\n",
        "X_test = X_test[:,np.newaxis]\n",
        "Y_predict=model.predict(X_poly)\n",
        "rmse = np.sqrt(mean_squared_error(Y,Y_predict))\n",
        "r2 = r2_score(Y,Y_predict)\n",
        "print(rmse)\n",
        "print(r2)\n",
        "plt.scatter(X, Y, s=10)\n",
        "# sort the values of x before line plot\n",
        "sort_axis = operator.itemgetter(0)\n",
        "sorted_zip = sorted(zip(X,Y_predict), key=sort_axis)\n",
        "X, Y_predict = zip(*sorted_zip)\n",
        "plt.plot(X, Y_predict, color='m')\n",
        "plt.show()"
      ],
      "execution_count": 0,
      "outputs": [
        {
          "output_type": "stream",
          "text": [
            "(20,)\n",
            "(20, 1)\n",
            "10.12043747361471\n",
            "0.8537647164420812\n"
          ],
          "name": "stdout"
        },
        {
          "output_type": "display_data",
          "data": {
            "image/png": "[encoded data removed]",
            "text/plain": [
              "<Figure size 432x288 with 1 Axes>"
            ]
          },
          "metadata": {
            "tags": []
          }
        }
      ]
    },
    {
      "cell_type": "markdown",
      "metadata": {
        "id": "ELMSwcyOYFe0",
        "colab_type": "text"
      },
      "source": [
        "#SVR\n",
        "  Support Vector Regression"
      ]
    },
    {
      "cell_type": "code",
      "metadata": {
        "id": "JHXDQ_HuMkgb",
        "colab_type": "code",
        "outputId": "b81b4af6-10e7-4fe1-f0f3-5821278c0ab1",
        "colab": {
          "base_uri": "https://localhost:8080/",
          "height": 295
        }
      },
      "source": [
        "import numpy as np\n",
        "from sklearn.svm import SVR\n",
        "import matplotlib.pyplot as plt\n",
        "#Generate sample data\n",
        "X = np.sort(5 * np.random.rand(40, 1), axis=0)\n",
        "y = np.sin(X).ravel()\n",
        "# Add noise to targets\n",
        "y[::5] += 3 * (0.5 - np.random.rand(8))\n",
        "# Fit regression model\n",
        "svr_rbf = SVR(kernel='rbf', C=100, gamma=0.1, epsilon=.1)\n",
        "svr_lin = SVR(kernel='linear', C=100, gamma='auto')\n",
        "svr_poly = SVR(kernel='poly', C=100, gamma='auto', degree=3, epsilon=.1,coef0=1)\n",
        "y_rbf = svr_rbf.fit(X, y).predict(X)\n",
        "y_lin = svr_lin.fit(X, y).predict(X)\n",
        "y_poly = svr_poly.fit(X, y).predict(X)\n",
        "import pylab as pl\n",
        "pl.scatter(X, y, c='k', label='data')\n",
        "pl.plot(X, y_rbf, c='g', label='RBF model')\n",
        "pl.plot(X, y_lin, c='r', label='Linear model')\n",
        "pl.plot(X, y_poly, c='b', label='Polynomial model')\n",
        "pl.xlabel('data')\n",
        "pl.ylabel('target')\n",
        "pl.title('Support Vector Regression')\n",
        "pl.legend()\n",
        "pl.show()\n"
      ],
      "execution_count": 0,
      "outputs": [
        {
          "output_type": "display_data",
          "data": {
            "image/png": "[encoded data removed]",
            "text/plain": [
              "<Figure size 432x288 with 1 Axes>"
            ]
          },
          "metadata": {
            "tags": []
          }
        }
      ]
    },
    {
      "cell_type": "markdown",
      "metadata": {
        "id": "opjBuUuja970",
        "colab_type": "text"
      },
      "source": [
        "##SVM\n",
        "support vector machine"
      ]
    },
    {
      "cell_type": "code",
      "metadata": {
        "id": "AUXPn9dAMnCp",
        "colab_type": "code",
        "outputId": "4e33f969-313c-443d-9d68-aa408cb4c381",
        "colab": {
          "base_uri": "https://localhost:8080/",
          "height": 295
        }
      },
      "source": [
        "import numpy as np\n",
        "import matplotlib.pyplot as plt\n",
        "from sklearn import svm, datasets\n",
        "iris = datasets.load_iris()\n",
        " # we only take the first two features. We could\n",
        " # avoid this ugly slicing by using a two-dim dataset\n",
        "X = iris.data[:, :2]\n",
        "y = iris.target\n",
        "C = 1.0 # SVM regularization parameter\n",
        "svc = svm.SVC(kernel='linear', C=1,gamma='auto').fit(X, y)\n",
        "# create a mesh to plot in\n",
        "x_min, x_max = X[:, 0].min() - 1, X[:, 0].max() + 1\n",
        "y_min, y_max = X[:, 1].min() - 1, X[:, 1].max() + 1\n",
        "h = (x_max / x_min)/100\n",
        "xx, yy = np.meshgrid(np.arange(x_min, x_max, h),\n",
        " np.arange(y_min, y_max, h))\n",
        "plt.subplot(1, 1, 1)\n",
        "Z = svc.predict(np.c_[xx.ravel(), yy.ravel()])\n",
        "Z = Z.reshape(xx.shape)\n",
        "plt.contourf(xx, yy, Z, cmap=plt.cm.Paired, alpha=0.8)\n",
        "plt.scatter(X[:, 0], X[:, 1], c=y, cmap=plt.cm.Paired)\n",
        "plt.xlabel('Sepal length')\n",
        "plt.ylabel('Sepal width')\n",
        "plt.xlim(xx.min(), xx.max())\n",
        "plt.title('SVC with linear kernel')\n",
        "plt.show()"
      ],
      "execution_count": 0,
      "outputs": [
        {
          "output_type": "display_data",
          "data": {
            "image/png": "[encoded data removed]",
            "text/plain": [
              "<Figure size 432x288 with 1 Axes>"
            ]
          },
          "metadata": {
            "tags": []
          }
        }
      ]
    },
    {
      "cell_type": "markdown",
      "metadata": {
        "id": "5Lq-xMS_ewPA",
        "colab_type": "text"
      },
      "source": [
        "##Logistic Regression"
      ]
    },
    {
      "cell_type": "code",
      "metadata": {
        "id": "RX3-5HdJdj9J",
        "colab_type": "code",
        "outputId": "fd2b03e8-1e9b-4086-cc8f-52298d323134",
        "colab": {
          "base_uri": "https://localhost:8080/",
          "height": 555
        }
      },
      "source": [
        "from sklearn.datasets import load_iris\n",
        "from sklearn.linear_model import  LogisticRegression\n",
        "iris = datasets.load_iris()\n",
        "X= iris.data[:, :2]\n",
        "Y=iris.target\n",
        "from sklearn.model_selection import train_test_split\n",
        "X_train, X_test, Y_train, Y_test = train_test_split(X,Y, test_size=0.2)\n",
        "classifier =LogisticRegression(random_state=0)\n",
        "classifier.fit(X_train,Y_train)\n",
        "y_predict = classifier.predict(X_test)\n",
        "#making confusion matrix\n",
        "#Y_predict=np.array(Y_predict)\n",
        "from sklearn.metrics import confusion_matrix\n",
        "#cm=confusion_matrix(Y_test,Y_predict)\n",
        "print(X_test.shape,X_train.shape,Y_test.shape,Y_train.shape,Y_predict.shape)\n",
        "Y_predict\n",
        "X_test"
      ],
      "execution_count": 0,
      "outputs": [
        {
          "output_type": "stream",
          "text": [
            "(30, 2) (120, 2) (30,) (120,) (20, 1)\n"
          ],
          "name": "stdout"
        },
        {
          "output_type": "execute_result",
          "data": {
            "text/plain": [
              "array([[5.1, 3.3],\n",
              "       [5. , 3.3],\n",
              "       [7.9, 3.8],\n",
              "       [5.7, 2.8],\n",
              "       [4.4, 2.9],\n",
              "       [5.9, 3. ],\n",
              "       [7.2, 3.2],\n",
              "       [5.8, 2.7],\n",
              "       [6.5, 3. ],\n",
              "       [5.6, 2.5],\n",
              "       [7.7, 2.8],\n",
              "       [5.6, 3. ],\n",
              "       [4.9, 3.6],\n",
              "       [4.9, 3. ],\n",
              "       [5.4, 3.9],\n",
              "       [4.3, 3. ],\n",
              "       [6.7, 2.5],\n",
              "       [5.7, 2.9],\n",
              "       [5.7, 4.4],\n",
              "       [6.8, 2.8],\n",
              "       [7. , 3.2],\n",
              "       [5. , 2. ],\n",
              "       [5.8, 2.8],\n",
              "       [7.4, 2.8],\n",
              "       [5.8, 2.7],\n",
              "       [5.5, 2.4],\n",
              "       [6. , 3.4],\n",
              "       [5.7, 2.8],\n",
              "       [5. , 3.2],\n",
              "       [4.7, 3.2]])"
            ]
          },
          "metadata": {
            "tags": []
          },
          "execution_count": 82
        }
      ]
    },
    {
      "cell_type": "markdown",
      "metadata": {
        "id": "MpMbY6iloIH5",
        "colab_type": "text"
      },
      "source": [
        "##KNN\n",
        "K nearest neighbour"
      ]
    },
    {
      "cell_type": "code",
      "metadata": {
        "id": "E5ofujN9hGCO",
        "colab_type": "code",
        "colab": {}
      },
      "source": [
        ""
      ],
      "execution_count": 0,
      "outputs": []
    },
    {
      "cell_type": "markdown",
      "metadata": {
        "id": "STTj0PntoqEB",
        "colab_type": "text"
      },
      "source": [
        "Decision Tree Classification"
      ]
    },
    {
      "cell_type": "code",
      "metadata": {
        "id": "R-NyQW2GotsB",
        "colab_type": "code",
        "colab": {}
      },
      "source": [
        ""
      ],
      "execution_count": 0,
      "outputs": []
    },
    {
      "cell_type": "markdown",
      "metadata": {
        "id": "MTqzvNPDoumr",
        "colab_type": "text"
      },
      "source": [
        "Random Forest"
      ]
    },
    {
      "cell_type": "code",
      "metadata": {
        "id": "5ALGfWFlowto",
        "colab_type": "code",
        "colab": {}
      },
      "source": [
        ""
      ],
      "execution_count": 0,
      "outputs": []
    },
    {
      "cell_type": "markdown",
      "metadata": {
        "id": "Z-Z1BOXgoxNe",
        "colab_type": "text"
      },
      "source": [
        "Kmeans"
      ]
    },
    {
      "cell_type": "code",
      "metadata": {
        "id": "gRM2VB0hoz5i",
        "colab_type": "code",
        "colab": {}
      },
      "source": [
        ""
      ],
      "execution_count": 0,
      "outputs": []
    },
    {
      "cell_type": "markdown",
      "metadata": {
        "id": "eRhZ6mt8o0g0",
        "colab_type": "text"
      },
      "source": [
        "Heirarchical"
      ]
    },
    {
      "cell_type": "code",
      "metadata": {
        "id": "iAJNONoro13k",
        "colab_type": "code",
        "colab": {}
      },
      "source": [
        ""
      ],
      "execution_count": 0,
      "outputs": []
    }
  ]
}
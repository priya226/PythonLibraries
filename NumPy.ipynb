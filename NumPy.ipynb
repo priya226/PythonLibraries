{
  "nbformat": 4,
  "nbformat_minor": 0,
  "metadata": {
    "colab": {
      "name": "NumPy.ipynb",
      "provenance": [],
      "collapsed_sections": []
    },
    "kernelspec": {
      "name": "python3",
      "display_name": "Python 3"
    }
  },
  "cells": [
    {
      "cell_type": "markdown",
      "metadata": {
        "id": "5iYhzxP1vw8_",
        "colab_type": "text"
      },
      "source": [
        "# *** NumPy is a general-purpose array-processing package. It provides a high-performance multidimensional array object, and tools for working with these arrays.***"
      ]
    },
    {
      "cell_type": "markdown",
      "metadata": {
        "id": "PXfokV-bBXXW",
        "colab_type": "text"
      },
      "source": [
        "# Import Library"
      ]
    },
    {
      "cell_type": "code",
      "metadata": {
        "id": "Ge5qMwsRH1rh",
        "colab_type": "code",
        "colab": {}
      },
      "source": [
        "import numpy as np"
      ],
      "execution_count": 0,
      "outputs": []
    },
    {
      "cell_type": "markdown",
      "metadata": {
        "id": "tOICEPjiBieX",
        "colab_type": "text"
      },
      "source": [
        "# Size,Shape"
      ]
    },
    {
      "cell_type": "code",
      "metadata": {
        "id": "jo_BBfn1IBOR",
        "colab_type": "code",
        "outputId": "2c2b7d26-8c87-4c43-f963-761ab20de9da",
        "colab": {
          "base_uri": "https://localhost:8080/",
          "height": 263
        }
      },
      "source": [
        "a=np.array([1,2,3,3])\n",
        "a\n",
        "print(\"printing 1 d array\", a)\n",
        "b=np.array([[1,2,3,4],[1,2,3,4]])\n",
        "print(\"printing 2 d array\",b)\n",
        "print(\"getting dimension of matrix 1d/2d/3d\",a.ndim)    #dimension is rank\n",
        "print(\"getting dimension of matrix 1d/2d/3d\",b.ndim)\n",
        "print(\"shape of matrix a rxc (a is one d so its show as vector )\",a.shape)\n",
        "print(\"shape of matrix b rxc \",b.shape)\n",
        "print(\"describes how the bytes in the fixed-size block of memory corresponding to an array item should be interpreted. int32orint16orint64-----\",a.dtype)\n",
        "print(\"describes how the bytes in the fixed-size block of memory corresponding to an array item should be interpreted.  int32orint16orint64-----\",b.dtype)\n",
        "print(\"Returns the size in bytes of each element of the matrix b\",b.itemsize)\n",
        "print(\"return total size of matrix a \",a.size)\n",
        "print(\"return total element of matrix b \",b.size)\n",
        "print(\"return total size of matrix b \",b.nbytes)\n"
      ],
      "execution_count": 0,
      "outputs": [
        {
          "output_type": "stream",
          "text": [
            "printing 1 d array [1 2 3 3]\n",
            "printing 2 d array [[1 2 3 4]\n",
            " [1 2 3 4]]\n",
            "getting dimension of matrix 1d/2d/3d 1\n",
            "getting dimension of matrix 1d/2d/3d 2\n",
            "shape of matrix a rxc (a is one d so its show as vector ) (4,)\n",
            "shape of matrix b rxc  (2, 4)\n",
            "describes how the bytes in the fixed-size block of memory corresponding to an array item should be interpreted. int32orint16orint64----- int64\n",
            "describes how the bytes in the fixed-size block of memory corresponding to an array item should be interpreted.  int32orint16orint64----- int64\n",
            "Returns the size in bytes of each element of the matrix b 8\n",
            "return total size of matrix a  4\n",
            "return total element of matrix b  8\n",
            "return total size of matrix b  64\n"
          ],
          "name": "stdout"
        }
      ]
    },
    {
      "cell_type": "markdown",
      "metadata": {
        "id": "Xsj_13zyCTl1",
        "colab_type": "text"
      },
      "source": [
        "# Array Creation"
      ]
    },
    {
      "cell_type": "code",
      "metadata": {
        "id": "VsZIhTAKVInl",
        "colab_type": "code",
        "outputId": "4c379214-41d4-49dd-c1f3-fc7f3789ea73",
        "colab": {
          "base_uri": "https://localhost:8080/",
          "height": 159
        }
      },
      "source": [
        "y=np.zeros(5)  #NULL vector of size 5\n",
        "y=np.ones(5)    #unit vector with float values of size 5\n",
        "#print(y)\n",
        "y=np.ones((2,2))   \n",
        "#print(y)\n",
        "y=np.eye(3)      #identity matrix of 3x3\n",
        "#print(y)\n",
        "#print(np.nonzero(y))      #prints all non zero elements of vector\n",
        "y=np.zeros((2,4))\n",
        "#print(y)\n",
        "#print(y.shape)\n",
        "y=np.full((3,3),2+6j,dtype=complex)  \n",
        "print(\"syntax is np.full((r,c),fill_value,dtype=None||cpmplex)\",y)\n",
        "y=np.linspace(0,10,20)\n",
        "print(\"evenly spaced values in vector with linspace(initial_value,final_value,total_size)\",y)\n"
      ],
      "execution_count": 0,
      "outputs": [
        {
          "output_type": "stream",
          "text": [
            "syntax is np.full((r,c),fill_value,dtype=None||cpmplex) [[2.+6.j 2.+6.j 2.+6.j]\n",
            " [2.+6.j 2.+6.j 2.+6.j]\n",
            " [2.+6.j 2.+6.j 2.+6.j]]\n",
            "evenly spaced values in vector with linspace(initial_value,final_value,total_size) [ 0.          0.52631579  1.05263158  1.57894737  2.10526316  2.63157895\n",
            "  3.15789474  3.68421053  4.21052632  4.73684211  5.26315789  5.78947368\n",
            "  6.31578947  6.84210526  7.36842105  7.89473684  8.42105263  8.94736842\n",
            "  9.47368421 10.        ]\n"
          ],
          "name": "stdout"
        }
      ]
    },
    {
      "cell_type": "code",
      "metadata": {
        "id": "SKkOfZj4X3hJ",
        "colab_type": "code",
        "outputId": "8884ba1f-86cc-49f2-c4a9-dbbb61f2c9f0",
        "colab": {
          "base_uri": "https://localhost:8080/",
          "height": 358
        }
      },
      "source": [
        "y=np.arange(0,90,1) \n",
        "#print(y)  \n",
        "y=np.arange(90)      #both same take vlue from 0 to 89\n",
        "#print(y) \n",
        "y=np.arange(9).reshape(3,3)\n",
        "y=np.random.random((3,4))\n",
        "z=y.reshape(2,2,3)\n",
        "print(y)\n",
        "#print(z)\n",
        "k=y.flatten(order='C')   #flatten by default and stored as r0 r1 ...\n",
        "k1=y.flatten(order='F')  #flatten and stored as c0 c1 ...\n",
        "print(\"\\n\",k,\"\\n \\n\",k1)"
      ],
      "execution_count": 0,
      "outputs": [
        {
          "output_type": "error",
          "ename": "AxisError",
          "evalue": "ignored",
          "traceback": [
            "\u001b[0;31m---------------------------------------------------------------------------\u001b[0m",
            "\u001b[0;31mAxisError\u001b[0m                                 Traceback (most recent call last)",
            "\u001b[0;32m<ipython-input-137-8dcef01afde5>\u001b[0m in \u001b[0;36m<module>\u001b[0;34m()\u001b[0m\n\u001b[1;32m      4\u001b[0m \u001b[0;31m#print(y)\u001b[0m\u001b[0;34m\u001b[0m\u001b[0;34m\u001b[0m\u001b[0;34m\u001b[0m\u001b[0m\n\u001b[1;32m      5\u001b[0m \u001b[0;31m#print(y.max(),y.min())  #max & min elemnts of entire matrix\u001b[0m\u001b[0;34m\u001b[0m\u001b[0;34m\u001b[0m\u001b[0;34m\u001b[0m\u001b[0m\n\u001b[0;32m----> 6\u001b[0;31m \u001b[0mprint\u001b[0m\u001b[0;34m(\u001b[0m\u001b[0;34m\"max by row is y.max(axis=1) \\n\"\u001b[0m\u001b[0;34m,\u001b[0m\u001b[0my\u001b[0m\u001b[0;34m.\u001b[0m\u001b[0mmax\u001b[0m\u001b[0;34m(\u001b[0m\u001b[0maxis\u001b[0m\u001b[0;34m=\u001b[0m\u001b[0;36m1\u001b[0m\u001b[0;34m)\u001b[0m\u001b[0;34m)\u001b[0m\u001b[0;34m\u001b[0m\u001b[0;34m\u001b[0m\u001b[0m\n\u001b[0m\u001b[1;32m      7\u001b[0m \u001b[0mprint\u001b[0m\u001b[0;34m(\u001b[0m\u001b[0;34m\"max by col is y.max(axis=0)\\n\"\u001b[0m\u001b[0;34m,\u001b[0m\u001b[0my\u001b[0m\u001b[0;34m.\u001b[0m\u001b[0mmax\u001b[0m\u001b[0;34m(\u001b[0m\u001b[0maxis\u001b[0m\u001b[0;34m=\u001b[0m\u001b[0;36m0\u001b[0m\u001b[0;34m)\u001b[0m\u001b[0;34m)\u001b[0m\u001b[0;34m\u001b[0m\u001b[0;34m\u001b[0m\u001b[0m\n\u001b[1;32m      8\u001b[0m \u001b[0my\u001b[0m\u001b[0;34m=\u001b[0m\u001b[0mnp\u001b[0m\u001b[0;34m.\u001b[0m\u001b[0marange\u001b[0m\u001b[0;34m(\u001b[0m\u001b[0;36m9\u001b[0m\u001b[0;34m)\u001b[0m\u001b[0;34m.\u001b[0m\u001b[0mreshape\u001b[0m\u001b[0;34m(\u001b[0m\u001b[0;36m3\u001b[0m\u001b[0;34m,\u001b[0m\u001b[0;36m3\u001b[0m\u001b[0;34m)\u001b[0m\u001b[0;34m\u001b[0m\u001b[0;34m\u001b[0m\u001b[0m\n",
            "\u001b[0;32m/usr/local/lib/python3.6/dist-packages/numpy/core/_methods.py\u001b[0m in \u001b[0;36m_amax\u001b[0;34m(a, axis, out, keepdims, initial, where)\u001b[0m\n\u001b[1;32m     28\u001b[0m def _amax(a, axis=None, out=None, keepdims=False,\n\u001b[1;32m     29\u001b[0m           initial=_NoValue, where=True):\n\u001b[0;32m---> 30\u001b[0;31m     \u001b[0;32mreturn\u001b[0m \u001b[0mumr_maximum\u001b[0m\u001b[0;34m(\u001b[0m\u001b[0ma\u001b[0m\u001b[0;34m,\u001b[0m \u001b[0maxis\u001b[0m\u001b[0;34m,\u001b[0m \u001b[0;32mNone\u001b[0m\u001b[0;34m,\u001b[0m \u001b[0mout\u001b[0m\u001b[0;34m,\u001b[0m \u001b[0mkeepdims\u001b[0m\u001b[0;34m,\u001b[0m \u001b[0minitial\u001b[0m\u001b[0;34m,\u001b[0m \u001b[0mwhere\u001b[0m\u001b[0;34m)\u001b[0m\u001b[0;34m\u001b[0m\u001b[0;34m\u001b[0m\u001b[0m\n\u001b[0m\u001b[1;32m     31\u001b[0m \u001b[0;34m\u001b[0m\u001b[0m\n\u001b[1;32m     32\u001b[0m def _amin(a, axis=None, out=None, keepdims=False,\n",
            "\u001b[0;31mAxisError\u001b[0m: axis 1 is out of bounds for array of dimension 1"
          ]
        }
      ]
    },
    {
      "cell_type": "markdown",
      "metadata": {
        "id": "552-3xDCiVFg",
        "colab_type": "text"
      },
      "source": [
        "\n",
        " random generator"
      ]
    },
    {
      "cell_type": "code",
      "metadata": {
        "id": "T5tGe1bibNUy",
        "colab_type": "code",
        "outputId": "9e6941ce-1cce-4533-d839-59677f67d5c2",
        "colab": {
          "base_uri": "https://localhost:8080/",
          "height": 278
        }
      },
      "source": [
        "y=np.random.random(10)   #10 random value generated betw 0 & 1\n",
        "y.shape\n",
        "y=np.random.random((5,5))   #random value bet 0 & 1 5x5 dimension\n",
        "print(y)\n"
      ],
      "execution_count": 0,
      "outputs": [
        {
          "output_type": "stream",
          "text": [
            "[[0.27853751 0.32622508 0.19439998 0.39769289 0.50565974]\n",
            " [0.47580485 0.10666743 0.50946082 0.36205413 0.00436598]\n",
            " [0.02499233 0.57962857 0.61495551 0.30582168 0.87544567]\n",
            " [0.5087905  0.32924238 0.56831691 0.13643723 0.80498653]\n",
            " [0.04336176 0.20818725 0.18920943 0.85471688 0.21923787]]\n",
            "sorted matrix element by row\n",
            "None\n",
            "another sorted matrix element by row\n",
            "sorted matrix element by col\n",
            "[[0.19439998 0.27853751 0.32622508 0.39769289 0.50565974]\n",
            " [0.00436598 0.10666743 0.36205413 0.47580485 0.50946082]\n",
            " [0.02499233 0.30582168 0.57962857 0.61495551 0.87544567]\n",
            " [0.13643723 0.32924238 0.5087905  0.56831691 0.80498653]\n",
            " [0.04336176 0.18920943 0.20818725 0.21923787 0.85471688]]\n",
            "mean value of matrix  0.37696795637881664\n"
          ],
          "name": "stdout"
        }
      ]
    },
    {
      "cell_type": "markdown",
      "metadata": {
        "id": "-Nr2fl5fBJs-",
        "colab_type": "text"
      },
      "source": [
        "# ARRAY INDEXING"
      ]
    },
    {
      "cell_type": "code",
      "metadata": {
        "id": "txTlShqVSk88",
        "colab_type": "code",
        "outputId": "9789482e-80ea-4366-9378-65e7cef7abe4",
        "colab": {
          "base_uri": "https://localhost:8080/",
          "height": 104
        }
      },
      "source": [
        "z=np.array([[1,2,3,4],[1,2,3,4],[1,2,3,4],[1,2,3,4]])\n",
        "print(z)\n",
        "y=np.array(z[1:3,1:3])\n",
        "y=z[:2,-1:2]    #  give empty \n",
        "print(y)"
      ],
      "execution_count": 0,
      "outputs": [
        {
          "output_type": "stream",
          "text": [
            "[[1 2 3 4]\n",
            " [1 2 3 4]\n",
            " [1 2 3 4]\n",
            " [1 2 3 4]]\n",
            "[]\n"
          ],
          "name": "stdout"
        }
      ]
    },
    {
      "cell_type": "code",
      "metadata": {
        "id": "brC-ujWBIDpB",
        "colab_type": "code",
        "outputId": "b3889340-c2f0-44c3-89ca-ebc44c7d9cc9",
        "colab": {
          "base_uri": "https://localhost:8080/",
          "height": 104
        }
      },
      "source": [
        "print(\"particular element acess \",b[1,1])\n",
        "print(\"get spacific row \",b[0,:])\n",
        "print(\"get specific col\",b[:,2])\n",
        "print(\"get certain rows and col \", b[0:2,1:3])\n"
      ],
      "execution_count": 0,
      "outputs": [
        {
          "output_type": "stream",
          "text": [
            "particular element acess  2\n",
            "get spacific row  [1 2 3 4]\n",
            "get specific col [3 3]\n",
            "get certain rows and col  [[2 3]\n",
            " [2 3]]\n"
          ],
          "name": "stdout"
        }
      ]
    },
    {
      "cell_type": "code",
      "metadata": {
        "id": "-MkRheM1eKEx",
        "colab_type": "code",
        "outputId": "1189d96e-71da-4118-9b7b-272e4132ad80",
        "colab": {
          "base_uri": "https://localhost:8080/",
          "height": 34
        }
      },
      "source": [
        "y=z[:2,:2]     #till 2nd row and 2nd col not row index\n",
        "#print(y)\n",
        "y=z[:-2,:-2]       #leave last 2 row and leave last 2 col\n",
        "#print(y)\n",
        "y=z[0:-1,0:-1]    #leave last row and leave last col\n",
        "#print(y)\n",
        "y=z[:2,::2]\n",
        "#print(\"array with first two rows and alternate col\",y)\n",
        "y=z[[0,2,3,1],[1,2,1,2]]\n",
        "print(\"array with value at index (0,1),(2,2),(3,1),(1,2)\",y)"
      ],
      "execution_count": 0,
      "outputs": [
        {
          "output_type": "stream",
          "text": [
            "array with value at index (0,1),(2,2),(3,1),(1,2) [2 3 2 3]\n"
          ],
          "name": "stdout"
        }
      ]
    },
    {
      "cell_type": "markdown",
      "metadata": {
        "id": "xHW95cbCE1o8",
        "colab_type": "text"
      },
      "source": [
        "Basic operation and BroadCasting ,Unary Operators Binary \n",
        "The Broadcasting Rule: In order to broadcast, the size of the trailing axes for both arrays in an operation must either be the same size or one of them must be one.\n",
        "\n",
        "\n",
        "\n"
      ]
    },
    {
      "cell_type": "code",
      "metadata": {
        "id": "d1wG-j9UCgtG",
        "colab_type": "code",
        "outputId": "99fc4e54-4ca6-41c1-ea59-c38552f59f2d",
        "colab": {
          "base_uri": "https://localhost:8080/",
          "height": 486
        }
      },
      "source": [
        "y=z+10\n",
        "#print(\"z+10 \\n\",y)   #broadcasting examples\n",
        "y=z-4\n",
        "#print(\"\\n z-4 \\n\",y)\n",
        "y=z*2\n",
        "#print(\"\\n z*2 \\n\",y)\n",
        "a=np.array([1,2,3])\n",
        "b=np.array([4,5,6])\n",
        "print(a[:, np.newaxis] + b)   #broadcasting\n",
        "#print(\"transpose is basically y.T\",y.T)\n",
        "#print(y.max(),y.min())  #max & min elemnts of entire matrix\n",
        "#print(\"max by row is y.max(axis=1) \\n\",y.max(axis=1))  #print all rowwise max same for min as well\n",
        "#print(\"max by col is y.max(axis=0)\\n\",y.max(axis=0))    #print all colwise max same for min as well\n",
        "#print(\"sum of all element of matrix y.sum()\",y.sum())\n",
        "#print(\"sum along each row \",y.sum(axis=1))  \n",
        "#print(\"sum along each col \",y.sum(axis=0)) \n",
        "#print(\"squaring each element \",y**2) \n",
        "#print(\"summing element wise 2 matrix with condition of same dimension \",z+y)\n",
        "#print(\"Multiplication element wise 2 matrix with condition of same dimension \",z*y)\n",
        "print(\"Multiplication of 2 matrix with condition (r1,c)x(c,r2) of same dimension \",z.dot(y))\n",
        "print(\"element wise sine \\n\",np.sin(y))\n",
        "print(\"\\n element wise exponential \",np.exp(y))\n",
        "print(\"\\n element wise squar root\",np.sqrt(z))\n",
        "y.sort() \n",
        "print(\"another sorted matrix element by row\")\n",
        "np.sort(y,axis=0)\n",
        "#print(y)\n"
      ],
      "execution_count": 0,
      "outputs": [
        {
          "output_type": "stream",
          "text": [
            "[[5 6 7]\n",
            " [6 7 8]\n",
            " [7 8 9]]\n",
            "Multiplication of 2 matrix with condition (r1,c)x(c,r2) of same dimension  [[20 40 60 80]\n",
            " [20 40 60 80]\n",
            " [20 40 60 80]\n",
            " [20 40 60 80]]\n",
            "element wise sine \n",
            " [[ 0.90929743 -0.7568025  -0.2794155   0.98935825]\n",
            " [ 0.90929743 -0.7568025  -0.2794155   0.98935825]\n",
            " [ 0.90929743 -0.7568025  -0.2794155   0.98935825]\n",
            " [ 0.90929743 -0.7568025  -0.2794155   0.98935825]]\n",
            "\n",
            " element wise exponential  [[   7.3890561    54.59815003  403.42879349 2980.95798704]\n",
            " [   7.3890561    54.59815003  403.42879349 2980.95798704]\n",
            " [   7.3890561    54.59815003  403.42879349 2980.95798704]\n",
            " [   7.3890561    54.59815003  403.42879349 2980.95798704]]\n",
            "\n",
            " element wise squar root [[1.         1.41421356 1.73205081 2.        ]\n",
            " [1.         1.41421356 1.73205081 2.        ]\n",
            " [1.         1.41421356 1.73205081 2.        ]\n",
            " [1.         1.41421356 1.73205081 2.        ]]\n",
            "another sorted matrix element by row\n"
          ],
          "name": "stdout"
        },
        {
          "output_type": "execute_result",
          "data": {
            "text/plain": [
              "array([[2, 4, 6, 8],\n",
              "       [2, 4, 6, 8],\n",
              "       [2, 4, 6, 8],\n",
              "       [2, 4, 6, 8]])"
            ]
          },
          "metadata": {
            "tags": []
          },
          "execution_count": 169
        }
      ]
    },
    {
      "cell_type": "markdown",
      "metadata": {
        "id": "YhJNaeQbN4r6",
        "colab_type": "text"
      },
      "source": [
        "# Stacking"
      ]
    },
    {
      "cell_type": "code",
      "metadata": {
        "id": "S7u_GmZUFTWp",
        "colab_type": "code",
        "outputId": "2ce2efd8-ad9e-4457-d72d-6693684540a7",
        "colab": {
          "base_uri": "https://localhost:8080/",
          "height": 243
        }
      },
      "source": [
        "a1=np.array([[1,2,3],[4,5,6]])\n",
        "b1=np.array([[7,8,9],[10,11,12]])\n",
        "print(\"vertical stacking \\n \",np.vstack((a1,b1)))\n",
        "print(\"horizontal stacking \\n \",np.hstack((a1,b1)))\n",
        "print(\"column inserted  in last \\n \",np.column_stack((a1,[0,0]))) #[0,0] as column added to last \n",
        "print(\"concatening to 2nd axis [a1 b1] \",np.concatenate((a1,b1),1))"
      ],
      "execution_count": 0,
      "outputs": [
        {
          "output_type": "stream",
          "text": [
            "vertical stacking \n",
            "  [[ 1  2  3]\n",
            " [ 4  5  6]\n",
            " [ 7  8  9]\n",
            " [10 11 12]]\n",
            "horizontal stacking \n",
            "  [[ 1  2  3  7  8  9]\n",
            " [ 4  5  6 10 11 12]]\n",
            "column inserted  in last \n",
            "  [[1 2 3 0]\n",
            " [4 5 6 0]]\n",
            "concatening to 2nd axis [a1 b1]  [[ 1  2  3  7  8  9]\n",
            " [ 4  5  6 10 11 12]]\n"
          ],
          "name": "stdout"
        }
      ]
    },
    {
      "cell_type": "markdown",
      "metadata": {
        "id": "5OIieK0ES86Y",
        "colab_type": "text"
      },
      "source": [
        "LinearAlgebra"
      ]
    },
    {
      "cell_type": "code",
      "metadata": {
        "id": "Xurk0q2VOOZc",
        "colab_type": "code",
        "outputId": "310bc5f5-2a23-4008-c017-3baff5f8ad01",
        "colab": {
          "base_uri": "https://localhost:8080/",
          "height": 278
        }
      },
      "source": [
        "z1=np.array([[6, 1, 1], \n",
        "              [4, -2, 5], \n",
        "              [2, 8, 7]])\n",
        "print(\"\\n rank of matrix \",np.linalg.matrix_rank(a1))\n",
        "print(\"\\n detreminant of matrix \",np.linalg.det(z1))\n",
        "print(\"\\n trace of matrix \",np.trace(a1))\n",
        "print(\"\\n Inverse of matrix \",np.linalg.inv(z1))\n",
        "print(\"\\n  matrix ised to some power\",np.linalg.matrix_power(z1,3))\n",
        "coef=np.array([[1, 2], [3, 4]])  #coefficient values of equation\n",
        "const = np.array([8, 18]) #constatnt values of equation\n",
        "print(\"Solution of linear equations:\", np.linalg.solve(coef, const))"
      ],
      "execution_count": 0,
      "outputs": [
        {
          "output_type": "stream",
          "text": [
            "\n",
            " rank of matrix  2\n",
            "\n",
            " detreminant of matrix  -306.0\n",
            "\n",
            " trace of matrix  6\n",
            "\n",
            " Inverse of matrix  [[ 0.17647059 -0.00326797 -0.02287582]\n",
            " [ 0.05882353 -0.13071895  0.08496732]\n",
            " [-0.11764706  0.1503268   0.05228758]]\n",
            "\n",
            "  matrix ised to some power [[336 162 228]\n",
            " [406 162 469]\n",
            " [698 702 905]]\n",
            "Solution of linear equations: [2. 3.]\n"
          ],
          "name": "stdout"
        }
      ]
    },
    {
      "cell_type": "code",
      "metadata": {
        "id": "SeHZmNyuXgKQ",
        "colab_type": "code",
        "colab": {}
      },
      "source": [
        ""
      ],
      "execution_count": 0,
      "outputs": []
    }
  ]
}
{
  "nbformat": 4,
  "nbformat_minor": 0,
  "metadata": {
    "colab": {
      "name": "Pandas.ipynb",
      "provenance": [],
      "collapsed_sections": []
    },
    "kernelspec": {
      "name": "python3",
      "display_name": "Python 3"
    }
  },
  "cells": [
    {
      "cell_type": "code",
      "metadata": {
        "id": "zlhrBTZAspgc",
        "colab_type": "code",
        "colab": {}
      },
      "source": [
        "import pandas as pd\n",
        "import datetime\n",
        "import pandas_datareader.data as web"
      ],
      "execution_count": 0,
      "outputs": []
    },
    {
      "cell_type": "code",
      "metadata": {
        "id": "OecVhuBbsqbx",
        "colab_type": "code",
        "colab": {}
      },
      "source": [
        "start = datetime.datetime(2018, 1, 1)\n",
        "end = datetime.datetime.now()"
      ],
      "execution_count": 0,
      "outputs": []
    },
    {
      "cell_type": "code",
      "metadata": {
        "id": "aXeJKeXAstmY",
        "colab_type": "code",
        "colab": {}
      },
      "source": [
        " gdp = web.DataReader('GDP', 'fred', start, end)    #online data from web"
      ],
      "execution_count": 0,
      "outputs": []
    },
    {
      "cell_type": "code",
      "metadata": {
        "id": "b45RQxAwsvvA",
        "colab_type": "code",
        "outputId": "6a36f86e-4059-4c29-8d1c-1047b78e0e77",
        "colab": {
          "base_uri": "https://localhost:8080/",
          "height": 173
        }
      },
      "source": [
        "print(gdp)      #print dataframe acquired online"
      ],
      "execution_count": 0,
      "outputs": [
        {
          "output_type": "stream",
          "text": [
            "                  GDP\n",
            "DATE                 \n",
            "2018-01-01  20163.159\n",
            "2018-04-01  20510.177\n",
            "2018-07-01  20749.752\n",
            "2018-10-01  20897.804\n",
            "2019-01-01  21098.827\n",
            "2019-04-01  21340.267\n",
            "2019-07-01  21542.540\n"
          ],
          "name": "stdout"
        }
      ]
    },
    {
      "cell_type": "code",
      "metadata": {
        "id": "vmbx9DTFsxtE",
        "colab_type": "code",
        "outputId": "d10f436d-2719-48f3-aec6-8d6dacd9ed42",
        "colab": {
          "base_uri": "https://localhost:8080/",
          "height": 139
        }
      },
      "source": [
        "print(gdp.head())    #print first 5 rows"
      ],
      "execution_count": 0,
      "outputs": [
        {
          "output_type": "stream",
          "text": [
            "                  GDP\n",
            "DATE                 \n",
            "2018-01-01  20163.159\n",
            "2018-04-01  20510.177\n",
            "2018-07-01  20749.752\n",
            "2018-10-01  20897.804\n",
            "2019-01-01  21098.827\n"
          ],
          "name": "stdout"
        }
      ]
    },
    {
      "cell_type": "code",
      "metadata": {
        "id": "O2E0Qfi7s0H3",
        "colab_type": "code",
        "outputId": "7759ce5c-62a0-416d-9b02-4673e7e3d182",
        "colab": {
          "base_uri": "https://localhost:8080/",
          "height": 324
        }
      },
      "source": [
        "#plotting dataframe using matplotlib\n",
        "import matplotlib.pyplot as plt\n",
        "from matplotlib import style\n",
        "\n",
        "style.use('fivethirtyeight')\n",
        "gdp['GDP'].plot()\n",
        "plt.legend()\n",
        "plt.show()"
      ],
      "execution_count": 0,
      "outputs": [
        {
          "output_type": "display_data",
          "data": {
            "image/png": "[encoded data removed]",
            "text/plain": [
              "<Figure size 432x288 with 1 Axes>"
            ]
          },
          "metadata": {
            "tags": []
          }
        }
      ]
    },
    {
      "cell_type": "code",
      "metadata": {
        "id": "rd8P-AUbs2-4",
        "colab_type": "code",
        "outputId": "6024a3a6-3638-4e6c-d7e3-970c60d5ea88",
        "colab": {
          "base_uri": "https://localhost:8080/",
          "height": 156
        }
      },
      "source": [
        "#Userdefined dataset\n",
        "df=pd.DataFrame({\"Date\": ['2018-01-01','2018-04-01','2018-07-01','2018-10-01','2019-01-01','2019-04-01','2019-07-01'],\n",
        "                'GDP': [20163.159, 20510.177, 20749.752, 20897.804, 21098.827, 21340.267 ,21542.540]})\n",
        "print(df)"
      ],
      "execution_count": 0,
      "outputs": [
        {
          "output_type": "stream",
          "text": [
            "         Date        GDP\n",
            "0  2018-01-01  20163.159\n",
            "1  2018-04-01  20510.177\n",
            "2  2018-07-01  20749.752\n",
            "3  2018-10-01  20897.804\n",
            "4  2019-01-01  21098.827\n",
            "5  2019-04-01  21340.267\n",
            "6  2019-07-01  21542.540\n"
          ],
          "name": "stdout"
        }
      ]
    },
    {
      "cell_type": "code",
      "metadata": {
        "id": "ebmugfdIs8H2",
        "colab_type": "code",
        "outputId": "ac256ba4-de56-4449-c383-efc40743c2d2",
        "colab": {
          "base_uri": "https://localhost:8080/",
          "height": 300
        }
      },
      "source": [
        "df.describe()"
      ],
      "execution_count": 0,
      "outputs": [
        {
          "output_type": "execute_result",
          "data": {
            "text/html": [
              "<div>\n",
              "<style scoped>\n",
              "    .dataframe tbody tr th:only-of-type {\n",
              "        vertical-align: middle;\n",
              "    }\n",
              "\n",
              "    .dataframe tbody tr th {\n",
              "        vertical-align: top;\n",
              "    }\n",
              "\n",
              "    .dataframe thead th {\n",
              "        text-align: right;\n",
              "    }\n",
              "</style>\n",
              "<table border=\"1\" class=\"dataframe\">\n",
              "  <thead>\n",
              "    <tr style=\"text-align: right;\">\n",
              "      <th></th>\n",
              "      <th>GDP</th>\n",
              "    </tr>\n",
              "  </thead>\n",
              "  <tbody>\n",
              "    <tr>\n",
              "      <th>count</th>\n",
              "      <td>7.000000</td>\n",
              "    </tr>\n",
              "    <tr>\n",
              "      <th>mean</th>\n",
              "      <td>20900.360857</td>\n",
              "    </tr>\n",
              "    <tr>\n",
              "      <th>std</th>\n",
              "      <td>476.742394</td>\n",
              "    </tr>\n",
              "    <tr>\n",
              "      <th>min</th>\n",
              "      <td>20163.159000</td>\n",
              "    </tr>\n",
              "    <tr>\n",
              "      <th>25%</th>\n",
              "      <td>20629.964500</td>\n",
              "    </tr>\n",
              "    <tr>\n",
              "      <th>50%</th>\n",
              "      <td>20897.804000</td>\n",
              "    </tr>\n",
              "    <tr>\n",
              "      <th>75%</th>\n",
              "      <td>21219.547000</td>\n",
              "    </tr>\n",
              "    <tr>\n",
              "      <th>max</th>\n",
              "      <td>21542.540000</td>\n",
              "    </tr>\n",
              "  </tbody>\n",
              "</table>\n",
              "</div>"
            ],
            "text/plain": [
              "                GDP\n",
              "count      7.000000\n",
              "mean   20900.360857\n",
              "std      476.742394\n",
              "min    20163.159000\n",
              "25%    20629.964500\n",
              "50%    20897.804000\n",
              "75%    21219.547000\n",
              "max    21542.540000"
            ]
          },
          "metadata": {
            "tags": []
          },
          "execution_count": 9
        }
      ]
    },
    {
      "cell_type": "code",
      "metadata": {
        "id": "rw4weHp8s-d5",
        "colab_type": "code",
        "colab": {}
      },
      "source": [
        "df1 = pd.DataFrame({'A': [1, 2, 1, 4, 3, 5, 2, 3, 4, 1], \n",
        "                    'B': [12, 14, 11, 16, 18, 18, 22, 13, 21, 17], \n",
        "                    'C': ['a', 'a', 'b', 'a', 'b', 'c', 'b', 'a', 'b', 'a'],\n",
        "                    'GDP1': [20163.159, 20510.177, 20749.752, 20897.804, 21098.827, 21340.267 ,21542.540,0,0,0]}\n",
        "                   )"
      ],
      "execution_count": 0,
      "outputs": []
    },
    {
      "cell_type": "code",
      "metadata": {
        "id": "hfFf6upvtAhi",
        "colab_type": "code",
        "outputId": "777f4d1a-ae3a-40ff-c4b7-c992ef640dbc",
        "colab": {
          "base_uri": "https://localhost:8080/",
          "height": 86
        }
      },
      "source": [
        "#print(df1)          #print dataframe\n",
        "df1.describe()      #display mean,min,max etc\n",
        "#print(df1.tail())   #some last values\n",
        "print(df1.tail(3))  #last 3 values"
      ],
      "execution_count": 0,
      "outputs": [
        {
          "output_type": "stream",
          "text": [
            "   A   B  C  GDP1\n",
            "7  3  13  a   0.0\n",
            "8  4  21  b   0.0\n",
            "9  1  17  a   0.0\n"
          ],
          "name": "stdout"
        }
      ]
    },
    {
      "cell_type": "code",
      "metadata": {
        "id": "JnQ8Z1Z9tCjp",
        "colab_type": "code",
        "outputId": "50f0410e-242e-457e-ba77-888c350c0caa",
        "colab": {
          "base_uri": "https://localhost:8080/",
          "height": 104
        }
      },
      "source": [
        "df1['C'].describe()"
      ],
      "execution_count": 0,
      "outputs": [
        {
          "output_type": "execute_result",
          "data": {
            "text/plain": [
              "count     10\n",
              "unique     3\n",
              "top        a\n",
              "freq       5\n",
              "Name: C, dtype: object"
            ]
          },
          "metadata": {
            "tags": []
          },
          "execution_count": 12
        }
      ]
    },
    {
      "cell_type": "code",
      "metadata": {
        "id": "xWXfqA7htEmU",
        "colab_type": "code",
        "outputId": "357a0a99-d4d9-4343-ac37-f19d83350597",
        "colab": {
          "base_uri": "https://localhost:8080/",
          "height": 489
        }
      },
      "source": [
        "import numpy as np\n",
        "import matplotlib.pyplot as plt\n",
        "import pandas as pd\n",
        "np.random.seed(0)    \n",
        "values=np.random.randn(15)   #generating normally distributed random values\n",
        "print(values)\n",
        "s=pd.Series(values)\n",
        "s.plot(kind='hist', title='Normally distributed random values') # hist computes distribution\n",
        "plt.show()  \n",
        "s.describe() "
      ],
      "execution_count": 4,
      "outputs": [
        {
          "output_type": "stream",
          "text": [
            "[ 1.76405235  0.40015721  0.97873798  2.2408932   1.86755799 -0.97727788\n",
            "  0.95008842 -0.15135721 -0.10321885  0.4105985   0.14404357  1.45427351\n",
            "  0.76103773  0.12167502  0.44386323]\n"
          ],
          "name": "stdout"
        },
        {
          "output_type": "display_data",
          "data": {
            "image/png": "[encoded data removed]",
            "text/plain": [
              "<Figure size 432x288 with 1 Axes>"
            ]
          },
          "metadata": {
            "tags": []
          }
        },
        {
          "output_type": "execute_result",
          "data": {
            "text/plain": [
              "count    15.000000\n",
              "mean      0.687008\n",
              "std       0.872032\n",
              "min      -0.977278\n",
              "25%       0.132859\n",
              "50%       0.443863\n",
              "75%       1.216506\n",
              "max       2.240893\n",
              "dtype: float64"
            ]
          },
          "metadata": {
            "tags": []
          },
          "execution_count": 4
        }
      ]
    },
    {
      "cell_type": "code",
      "metadata": {
        "id": "rNakEn1PtGzx",
        "colab_type": "code",
        "outputId": "d254ea96-c976-4850-a34f-eee781d5b171",
        "colab": {
          "base_uri": "https://localhost:8080/",
          "height": 156
        }
      },
      "source": [
        "web_stats = {'Day':[1,2,3,4,5,6],\n",
        "             'Visitors':[43,34,65,56,29,76],\n",
        "             'Bounce Rate':[65,67,78,65,45,52]}\n",
        "\n",
        "df2 = pd.DataFrame(web_stats)\n",
        "#print(df2)\n",
        "#making day as Index\n",
        "df3=df2.set_index('Day')\n",
        "#print(df3)\n",
        "df2.set_index('Day', inplace=True) #do the same too\n",
        "#print(df2)\n",
        "#print(df2['Visitors'])   #reference a particular column\n",
        "#print(df2.Visitors)      #also reference a particular column with condition 'Key' shouldn't have space\n",
        "# print(df2.Bounce Rate)  gives error\n",
        "print(df2['Bounce Rate'] ) # though it works"
      ],
      "execution_count": 0,
      "outputs": [
        {
          "output_type": "stream",
          "text": [
            "Day\n",
            "1    65\n",
            "2    67\n",
            "3    78\n",
            "4    65\n",
            "5    45\n",
            "6    52\n",
            "Name: Bounce Rate, dtype: int64\n"
          ],
          "name": "stdout"
        }
      ]
    },
    {
      "cell_type": "code",
      "metadata": {
        "id": "XIFfMYYdtJU9",
        "colab_type": "code",
        "outputId": "31334769-6201-46c1-ae17-3cb3872ec789",
        "colab": {
          "base_uri": "https://localhost:8080/",
          "height": 260
        }
      },
      "source": [
        "#creating a list to specific column\n",
        "print(df2.Visitors.to_list())\n",
        "# creating array of columns\n",
        "print(np.array(df2[['Visitors','Bounce Rate']]))\n",
        "# convert it to dtaframe\n",
        "print(pd.DataFrame(np.array(df2[['Visitors','Bounce Rate']])))"
      ],
      "execution_count": 0,
      "outputs": [
        {
          "output_type": "stream",
          "text": [
            "[43, 34, 65, 56, 29, 76]\n",
            "[[43 65]\n",
            " [34 67]\n",
            " [65 78]\n",
            " [56 65]\n",
            " [29 45]\n",
            " [76 52]]\n",
            "    0   1\n",
            "0  43  65\n",
            "1  34  67\n",
            "2  65  78\n",
            "3  56  65\n",
            "4  29  45\n",
            "5  76  52\n"
          ],
          "name": "stdout"
        }
      ]
    },
    {
      "cell_type": "markdown",
      "metadata": {
        "id": "ccLjq3WntQhC",
        "colab_type": "text"
      },
      "source": [
        "pandas represent the data in a DataFrame form.\n",
        "pandas has an input and output API which has a set of top-level reader and writer functions.\n",
        "\n",
        "DataFrame has a Reader and a Writer function. The Reader function allows you to read the different data formats, while the Writer function enables you to save the data in a particular format.\n",
        "\n",
        "pandas support various data format as JSON,EXCEL,HTML,CSV,SQL etc"
      ]
    },
    {
      "cell_type": "code",
      "metadata": {
        "id": "yl2TPwUbtLwA",
        "colab_type": "code",
        "outputId": "8c05acc2-04ed-4a13-a07b-0ab28ece9b65",
        "colab": {
          "base_uri": "https://localhost:8080/",
          "height": 124
        }
      },
      "source": [
        "from google.colab import drive\n",
        "drive.mount('/gdrive')"
      ],
      "execution_count": 0,
      "outputs": [
        {
          "output_type": "stream",
          "text": [
            "Go to this URL in a browser: https://accounts.google.com/o/oauth2/auth?client_id=947318989803-6bn6qk8qdgf4n4g3pfee6491hc0brc4i.apps.googleusercontent.com&redirect_uri=urn%3aietf%3awg%3aoauth%3a2.0%3aoob&response_type=code&scope=email%20https%3a%2f%2fwww.googleapis.com%2fauth%2fdocs.test%20https%3a%2f%2fwww.googleapis.com%2fauth%2fdrive%20https%3a%2f%2fwww.googleapis.com%2fauth%2fdrive.photos.readonly%20https%3a%2f%2fwww.googleapis.com%2fauth%2fpeopleapi.readonly\n",
            "\n",
            "Enter your authorization code:\n",
            "··········\n",
            "Mounted at /gdrive\n"
          ],
          "name": "stdout"
        }
      ]
    },
    {
      "cell_type": "code",
      "metadata": {
        "id": "Ev24W-xNtkPa",
        "colab_type": "code",
        "colab": {}
      },
      "source": [
        "df4 =pd.read_csv(\"/gdrive/My Drive/Mall_Customers.csv\")"
      ],
      "execution_count": 0,
      "outputs": []
    },
    {
      "cell_type": "code",
      "metadata": {
        "id": "GzpbQkabttG_",
        "colab_type": "code",
        "outputId": "d9988098-857c-4663-9d4c-7052adf0685d",
        "colab": {
          "base_uri": "https://localhost:8080/",
          "height": 121
        }
      },
      "source": [
        "print(df4.head())"
      ],
      "execution_count": 0,
      "outputs": [
        {
          "output_type": "stream",
          "text": [
            "   CustomerID   Genre  Age  Annual Income (k$)  Spending Score (1-100)\n",
            "0           1    Male   19                  15                      39\n",
            "1           2    Male   21                  15                      81\n",
            "2           3  Female   20                  16                       6\n",
            "3           4  Female   23                  16                      77\n",
            "4           5  Female   31                  17                      40\n"
          ],
          "name": "stdout"
        }
      ]
    },
    {
      "cell_type": "code",
      "metadata": {
        "id": "NKtlIu17umR8",
        "colab_type": "code",
        "outputId": "2cdc4172-e5fe-46db-d64d-a56f66213329",
        "colab": {
          "base_uri": "https://localhost:8080/",
          "height": 139
        }
      },
      "source": [
        "df4.set_index('Genre', inplace=True,)\n",
        "print(df4.head())"
      ],
      "execution_count": 0,
      "outputs": [
        {
          "output_type": "stream",
          "text": [
            "        CustomerID  Age  Annual Income (k$)  Spending Score (1-100)\n",
            "Genre                                                              \n",
            "Male             1   19                  15                      39\n",
            "Male             2   21                  15                      81\n",
            "Female           3   20                  16                       6\n",
            "Female           4   23                  16                      77\n",
            "Female           5   31                  17                      40\n"
          ],
          "name": "stdout"
        }
      ]
    },
    {
      "cell_type": "code",
      "metadata": {
        "id": "rXlsqZy5upWf",
        "colab_type": "code",
        "colab": {}
      },
      "source": [
        "df4.to_csv('/gdrive/My Drive/newcsv.csv')"
      ],
      "execution_count": 0,
      "outputs": []
    },
    {
      "cell_type": "code",
      "metadata": {
        "id": "ADea5jcMuv9E",
        "colab_type": "code",
        "colab": {}
      },
      "source": [
        "#our index will go again This is because CSV has no \"index\" attribute like our dataframe does.\n",
        "# What we can do, is set the index on import, rather than importing and then setting the index\n",
        "df4=pd.read_csv('/gdrive/My Drive/newcsv.csv',index_col=0)\n",
        "#print(df4.head())\n",
        "#don't want headers use this\n",
        "df4.to_csv('/gdrive/My Drive/newcsv2.csv',header=False)\n",
        "#print(df4.head())\n",
        "#what if file doesn't have headers\n",
        "#df5=pd.read_csv('/gdrive/My Drive/newcsv2.csv',names=['Age','Annual Income','Spending Score'],index_col=0)\n",
        "#print(df5.head())"
      ],
      "execution_count": 0,
      "outputs": []
    },
    {
      "cell_type": "markdown",
      "metadata": {
        "id": "aqPsNl7scQzW",
        "colab_type": "text"
      },
      "source": [
        "Pandas writes Excel files using the XlsxWriter modules.\n",
        "\n",
        "XlsxWriter is a Python module for writing files in the XLSX file format. It can be used to write text, numbers, and formulas to multiple worksheets. Also, it supports features such as formatting, images, charts, page setup, auto filters, conditional formatting and many others."
      ]
    },
    {
      "cell_type": "code",
      "metadata": {
        "id": "DHkpXty8XbEC",
        "colab_type": "code",
        "colab": {}
      },
      "source": [
        "# Converting a Pandas dataframe to an xlsx file using Pandas and XlsxWriter\n",
        " \n",
        "web_stats = {'Day':[1,2,3,4,5,6],\n",
        "             'Visitors':[43,34,65,56,29,76],\n",
        "             'Bounce Rate':[65,67,78,65,45,52]}\n",
        "df6=pd.DataFrame(web_stats)    #dataframe creation\n",
        "writer=pd.ExcelWriter('/gdrive/My Drive/xlsxfile.xlsx')  ## object using XlsxWriter as the engine.\n",
        "df6.to_excel(writer,sheet_name='sheet 1')\n",
        "writer.save()\n",
        "#print(df61)\n",
        "\n",
        "\n",
        "\n"
      ],
      "execution_count": 0,
      "outputs": []
    },
    {
      "cell_type": "code",
      "metadata": {
        "id": "fScfG0lCrsOd",
        "colab_type": "code",
        "colab": {}
      },
      "source": [
        "#saving multiple sheets\n",
        "df6 = pd.DataFrame({'Day':[1,2,3,4,5,6],\n",
        "             'Visitors':[43,34,65,56,29,76],\n",
        "             'Bounce Rate':[65,67,78,65,45,52]})\n",
        "df7 = pd.DataFrame({'A': [1, 2, 1, 4, 3, 5, 2, 3, 4, 1], \n",
        "                    'B': [12, 14, 11, 16, 18, 18, 22, 13, 21, 17], \n",
        "                    'C': ['a', 'a', 'b', 'a', 'b', 'c', 'b', 'a', 'b', 'a'],\n",
        "                    'GDP1': [20163.159, 20510.177, 20749.752, 20897.804, 21098.827, 21340.267 ,21542.540,0,0,0]}\n",
        "                   )\n",
        "df8=pd.DataFrame({\"Date\": ['2018-01-01','2018-04-01','2018-07-01','2018-10-01','2019-01-01','2019-04-01','2019-07-01'],\n",
        "                'GDP': [20163.159, 20510.177, 20749.752, 20897.804, 21098.827, 21340.267 ,21542.540]})\n",
        "writer = pd.ExcelWriter('/gdrive/My Drive/xlsxfile.xlsx')\n",
        "df6.to_excel(writer,sheet_name='sheet 1')\n",
        "df7.to_excel(writer,sheet_name='sheet 2')\n",
        "df8.to_excel(writer,sheet_name='sheet 3')\n",
        "\n",
        "writer.save()"
      ],
      "execution_count": 0,
      "outputs": []
    },
    {
      "cell_type": "code",
      "metadata": {
        "id": "36Dapc790rX0",
        "colab_type": "code",
        "colab": {}
      },
      "source": [
        "from datetime import datetime, date\n",
        "timeframe = pd.DataFrame({ 'Date & Time' : [datetime(2020,1,20,11,50,7),\n",
        "                                              datetime(2020,1,22,7,50,44),\n",
        "                                              datetime(2020,1,23,9,30,5),\n",
        "                                              datetime(2020,1,24,12,10,20),],\n",
        "                          'Date': [date(2020,1,27),\n",
        "                                   date(2020,1,28),\n",
        "                                   date(2020,1,29),\n",
        "                                   date(2020,1,30),]\n",
        "                    })\n",
        "writer=pd.ExcelWriter('/gdrive/My Drive/xlsxdatetime.xlsx',datetime_format='mmm dd yyyy hh:mm:ss',date_format='mmm dd yyyy')\n",
        "timeframe.to_excel(writer,sheet_name='sheet 1')\n",
        "writer.save()"
      ],
      "execution_count": 0,
      "outputs": []
    },
    {
      "cell_type": "markdown",
      "metadata": {
        "id": "E-8R-3loeNz1",
        "colab_type": "text"
      },
      "source": [
        "here are four major ways of combining dataframes,\n",
        "Concatenation, joining, merging, and appending\n"
      ]
    },
    {
      "cell_type": "code",
      "metadata": {
        "id": "q5puv7UHZkU3",
        "colab_type": "code",
        "outputId": "c013c597-936d-4056-bc08-1d64df9e7e65",
        "colab": {
          "base_uri": "https://localhost:8080/",
          "height": 593
        }
      },
      "source": [
        "df9 = pd.DataFrame({'A':[80,85,85],\n",
        "                    'B':[1, 2,  3],\n",
        "                    },\n",
        "                   index = [2001, 2002,  2004])\n",
        "\n",
        "df10 = pd.DataFrame({'A':[80,85,88,85],\n",
        "                    'B':[2, 3, 4, 2],\n",
        "                    },\n",
        "                   index = [2005, 2006, 2007, 2008])\n",
        "\n",
        "df11 = pd.DataFrame({'A':[80,85,88,85],\n",
        "                    'C':[2, 3, 2, 2],\n",
        "                    },\n",
        "                   index = [2001, 2002, 2003, 2004])\n",
        "added = pd.concat([df9,df10,df11])\n",
        "   #we have some NaN (not a number),\n",
        "# because this data didn't exist for that index, but all of our data is indeed here.\n",
        "print(added)\n",
        "# appending data with same index\n",
        "df=df9.append(df11)\n",
        "#print(df)\n",
        "print(pd.merge(df9,df10,on='B')) "
      ],
      "execution_count": 0,
      "outputs": [
        {
          "output_type": "stream",
          "text": [
            "       A    B    C\n",
            "2001  80  1.0  NaN\n",
            "2002  85  2.0  NaN\n",
            "2004  85  3.0  NaN\n",
            "2005  80  2.0  NaN\n",
            "2006  85  3.0  NaN\n",
            "2007  88  4.0  NaN\n",
            "2008  85  2.0  NaN\n",
            "2001  80  NaN  2.0\n",
            "2002  85  NaN  3.0\n",
            "2003  88  NaN  2.0\n",
            "2004  85  NaN  2.0\n",
            "   A_x  B  A_y\n",
            "0   85  2   80\n",
            "1   85  2   85\n",
            "2   85  3   85\n"
          ],
          "name": "stdout"
        },
        {
          "output_type": "stream",
          "text": [
            "/usr/local/lib/python3.6/dist-packages/ipykernel_launcher.py:15: FutureWarning: Sorting because non-concatenation axis is not aligned. A future version\n",
            "of pandas will change to not sort by default.\n",
            "\n",
            "To accept the future behavior, pass 'sort=False'.\n",
            "\n",
            "To retain the current behavior and silence the warning, pass 'sort=True'.\n",
            "\n",
            "  from ipykernel import kernelapp as app\n",
            "/usr/local/lib/python3.6/dist-packages/pandas/core/frame.py:7138: FutureWarning: Sorting because non-concatenation axis is not aligned. A future version\n",
            "of pandas will change to not sort by default.\n",
            "\n",
            "To accept the future behavior, pass 'sort=False'.\n",
            "\n",
            "To retain the current behavior and silence the warning, pass 'sort=True'.\n",
            "\n",
            "  sort=sort,\n"
          ],
          "name": "stderr"
        }
      ]
    },
    {
      "cell_type": "code",
      "metadata": {
        "id": "dzOiDT9qgT1y",
        "colab_type": "code",
        "colab": {
          "base_uri": "https://localhost:8080/",
          "height": 620
        },
        "outputId": "578706c6-0bf9-4f9b-d758-356283b498cd"
      },
      "source": [
        "#missing values\n",
        "data = { 'A':[8,2,np.nan,6,7,np.nan],\n",
        "         'B':[4,5,6,np.nan,np.nan,7],\n",
        "          'C':[2,3,5,6,7,np.nan]}\n",
        "df12=pd.DataFrame(data)\n",
        "df12.isnull()\n",
        "# will replace  Nan value in dataframe with value -99   \n",
        "#data.replace(to_replace = np.nan, value = -99)  \n",
        "#filling missing vaues\n",
        "print(df12.fillna(method='pad'))\n",
        "values={ 'A' :0, 'B': 1,'C':2}\n",
        "print(df12.fillna(values)) #dictionary specified to fill column with specific values\n",
        "print(df12.fillna(method='ffill')) # filled next values by previous\n",
        "# using dropna() function     \n",
        "df12.dropna(how = 'all') \n",
        "#drop rows with at least one Nan value (Null value)\n",
        "df12.dropna()\n",
        "print(len(data))\n",
        "df12.interpolate(method='polynomial',order=2)\n",
        "df12.interpolate(method='linear')"
      ],
      "execution_count": 14,
      "outputs": [
        {
          "output_type": "stream",
          "text": [
            "     A    B    C\n",
            "0  8.0  4.0  2.0\n",
            "1  2.0  5.0  3.0\n",
            "2  2.0  6.0  5.0\n",
            "3  6.0  6.0  6.0\n",
            "4  7.0  6.0  7.0\n",
            "5  7.0  7.0  7.0\n",
            "     A    B    C\n",
            "0  8.0  4.0  2.0\n",
            "1  2.0  5.0  3.0\n",
            "2  0.0  6.0  5.0\n",
            "3  6.0  1.0  6.0\n",
            "4  7.0  1.0  7.0\n",
            "5  0.0  7.0  2.0\n",
            "     A    B    C\n",
            "0  8.0  4.0  2.0\n",
            "1  2.0  5.0  3.0\n",
            "2  2.0  6.0  5.0\n",
            "3  6.0  6.0  6.0\n",
            "4  7.0  6.0  7.0\n",
            "5  7.0  7.0  7.0\n",
            "3\n"
          ],
          "name": "stdout"
        },
        {
          "output_type": "execute_result",
          "data": {
            "text/html": [
              "<div>\n",
              "<style scoped>\n",
              "    .dataframe tbody tr th:only-of-type {\n",
              "        vertical-align: middle;\n",
              "    }\n",
              "\n",
              "    .dataframe tbody tr th {\n",
              "        vertical-align: top;\n",
              "    }\n",
              "\n",
              "    .dataframe thead th {\n",
              "        text-align: right;\n",
              "    }\n",
              "</style>\n",
              "<table border=\"1\" class=\"dataframe\">\n",
              "  <thead>\n",
              "    <tr style=\"text-align: right;\">\n",
              "      <th></th>\n",
              "      <th>A</th>\n",
              "      <th>B</th>\n",
              "      <th>C</th>\n",
              "    </tr>\n",
              "  </thead>\n",
              "  <tbody>\n",
              "    <tr>\n",
              "      <th>0</th>\n",
              "      <td>8.0</td>\n",
              "      <td>4.000000</td>\n",
              "      <td>2.0</td>\n",
              "    </tr>\n",
              "    <tr>\n",
              "      <th>1</th>\n",
              "      <td>2.0</td>\n",
              "      <td>5.000000</td>\n",
              "      <td>3.0</td>\n",
              "    </tr>\n",
              "    <tr>\n",
              "      <th>2</th>\n",
              "      <td>4.0</td>\n",
              "      <td>6.000000</td>\n",
              "      <td>5.0</td>\n",
              "    </tr>\n",
              "    <tr>\n",
              "      <th>3</th>\n",
              "      <td>6.0</td>\n",
              "      <td>6.333333</td>\n",
              "      <td>6.0</td>\n",
              "    </tr>\n",
              "    <tr>\n",
              "      <th>4</th>\n",
              "      <td>7.0</td>\n",
              "      <td>6.666667</td>\n",
              "      <td>7.0</td>\n",
              "    </tr>\n",
              "    <tr>\n",
              "      <th>5</th>\n",
              "      <td>7.0</td>\n",
              "      <td>7.000000</td>\n",
              "      <td>7.0</td>\n",
              "    </tr>\n",
              "  </tbody>\n",
              "</table>\n",
              "</div>"
            ],
            "text/plain": [
              "     A         B    C\n",
              "0  8.0  4.000000  2.0\n",
              "1  2.0  5.000000  3.0\n",
              "2  4.0  6.000000  5.0\n",
              "3  6.0  6.333333  6.0\n",
              "4  7.0  6.666667  7.0\n",
              "5  7.0  7.000000  7.0"
            ]
          },
          "metadata": {
            "tags": []
          },
          "execution_count": 14
        }
      ]
    },
    {
      "cell_type": "code",
      "metadata": {
        "id": "HjfFvmw6OlPS",
        "colab_type": "code",
        "colab": {}
      },
      "source": [
        ""
      ],
      "execution_count": 0,
      "outputs": []
    }
  ]
}